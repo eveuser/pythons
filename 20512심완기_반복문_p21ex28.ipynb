{
  "nbformat": 4,
  "nbformat_minor": 0,
  "metadata": {
    "colab": {
      "provenance": []
    },
    "kernelspec": {
      "name": "python3",
      "display_name": "Python 3"
    },
    "language_info": {
      "name": "python"
    }
  },
  "cells": [
    {
      "cell_type": "markdown",
      "source": [
        "page19) "
      ],
      "metadata": {
        "id": "TCJK4ivE1sNJ"
      }
    },
    {
      "cell_type": "code",
      "execution_count": 10,
      "metadata": {
        "colab": {
          "base_uri": "https://localhost:8080/"
        },
        "id": "zX8FvgDg0hv9",
        "outputId": "7b6b2c0f-3245-4d73-eede-fdc198207267"
      },
      "outputs": [
        {
          "output_type": "stream",
          "name": "stdout",
          "text": [
            "0 1 1 2 3 5 8 13 21 34 55 89 144 233 377 610 987 1597 2584 4181 "
          ]
        }
      ],
      "source": [
        "#p19_ex15\n",
        "a = 0\n",
        "b = 1\n",
        "for i in range(20):\n",
        "  print(a, end=' ')\n",
        "  n = a+b\n",
        "  a=b\n",
        "  b=n\n"
      ]
    },
    {
      "cell_type": "code",
      "source": [
        "#p19_ex16\n",
        "for x in range(1,41):\n",
        "  if(x%10==0):\n",
        "    print('+', end='')\n",
        "  else: \n",
        "    print('-', end='')"
      ],
      "metadata": {
        "colab": {
          "base_uri": "https://localhost:8080/"
        },
        "id": "oxEnoiif3giz",
        "outputId": "38960312-9cc6-4b33-df0b-4ce29bfdc04f"
      },
      "execution_count": 17,
      "outputs": [
        {
          "output_type": "stream",
          "name": "stdout",
          "text": [
            "---------+---------+---------+---------+"
          ]
        }
      ]
    },
    {
      "cell_type": "code",
      "source": [
        "#p19_ex17\n",
        "x = 1\n",
        "while(x <= 41):\n",
        "    if(x%10==0):\n",
        "      print('+', end='')\n",
        "    else: \n",
        "      print('-', end='')\n",
        "    x += 1"
      ],
      "metadata": {
        "colab": {
          "base_uri": "https://localhost:8080/"
        },
        "id": "CuwwJP5i5VoC",
        "outputId": "4180e510-a516-451c-b700-2c3f6dade9e3"
      },
      "execution_count": 34,
      "outputs": [
        {
          "output_type": "stream",
          "name": "stdout",
          "text": [
            "---------+---------+---------+---------+-"
          ]
        }
      ]
    },
    {
      "cell_type": "code",
      "source": [
        "#p19_ex18\n",
        "print('-'*30)\n",
        "print(\"센치(cm) 인치(inch) 피트(ft) 야드(yd)\")\n",
        "print('-'*30)\n",
        "for cm in range(100):\n",
        "  inch = cm*0.393701\n",
        "  ft = cm*0.032808\n",
        "  yd = cm*0.010936\n",
        "  print(\"%7d %8.1f %8.1f %8.1f\"%(cm, inch, ft, yd))\n",
        "print('-'*30)"
      ],
      "metadata": {
        "id": "uMjFeAb26dH2"
      },
      "execution_count": null,
      "outputs": []
    },
    {
      "cell_type": "code",
      "source": [
        "#p19_ex19\n",
        "for i in range(1, 1001):\n",
        "  print(i, end=' ')\n",
        "  if i == 10:\n",
        "    break\n"
      ],
      "metadata": {
        "colab": {
          "base_uri": "https://localhost:8080/"
        },
        "id": "2K7neETa8D6-",
        "outputId": "75c6bb44-644d-4a50-8424-08853970dd9c"
      },
      "execution_count": 43,
      "outputs": [
        {
          "output_type": "stream",
          "name": "stdout",
          "text": [
            "1 2 3 4 5 6 7 8 9 10 "
          ]
        }
      ]
    },
    {
      "cell_type": "code",
      "source": [
        "#p19_ex20\n",
        "\n",
        "score = [92, 86, 68, 120, 56, 72]\n",
        "for i in range(len(score)):\n",
        "  print(score[i], end=' ')\n",
        "  if score[i] > 100:\n",
        "    print(\"성적처리\")\n",
        "    break\n",
        "\n"
      ],
      "metadata": {
        "colab": {
          "base_uri": "https://localhost:8080/"
        },
        "id": "eWefQz1i8uPe",
        "outputId": "710b0818-e5b2-4b9e-dafc-ecf1d4e9a230"
      },
      "execution_count": 55,
      "outputs": [
        {
          "output_type": "stream",
          "name": "stdout",
          "text": [
            "92 86 68 120 성적처리\n"
          ]
        }
      ]
    },
    {
      "cell_type": "code",
      "source": [
        "#p19_ex21\n",
        "score = [92, 86, 68, 120, 56, 72]\n",
        "for i in range(len(score)):\n",
        "  print(score[i], end=' ')\n",
        "  print()\n",
        "  if score[i] > 100:\n",
        "    continue\n",
        "print(\"성적처리\")\n"
      ],
      "metadata": {
        "colab": {
          "base_uri": "https://localhost:8080/"
        },
        "id": "sBAGz-e9CY0e",
        "outputId": "dddd699a-2cb1-405d-9604-ee9a1b1fac82"
      },
      "execution_count": 60,
      "outputs": [
        {
          "output_type": "stream",
          "name": "stdout",
          "text": [
            "92 \n",
            "86 \n",
            "68 \n",
            "120 \n",
            "56 \n",
            "72 \n",
            "성적처리\n"
          ]
        }
      ]
    },
    {
      "cell_type": "code",
      "source": [
        "#p19_ex22\n",
        "print(\"3+4 = ?\")\n",
        "while(1):\n",
        "  a = int(input(\"정답을 입력하세요 : \"))\n",
        "  if(a == 7):\n",
        "    break\n",
        "print(\"참 잘했어요\")"
      ],
      "metadata": {
        "colab": {
          "base_uri": "https://localhost:8080/"
        },
        "id": "zhtaLC07C922",
        "outputId": "bb9eaa7f-735b-4194-a625-7bbfcb83790d"
      },
      "execution_count": 61,
      "outputs": [
        {
          "output_type": "stream",
          "name": "stdout",
          "text": [
            "3+4 = ?\n",
            "정답을 입력하세요 : 2\n",
            "정답을 입력하세요 : 7\n",
            "참 잘했어요\n"
          ]
        }
      ]
    },
    {
      "cell_type": "code",
      "source": [
        "#p19_ex23\n",
        "while True:\n",
        "  light = input('신호등 색깔 입력 : ')\n",
        "  if(light == 'green'):\n",
        "    break\n",
        "print(\"길 건너기\")"
      ],
      "metadata": {
        "colab": {
          "base_uri": "https://localhost:8080/"
        },
        "id": "DbNeL-b7C95e",
        "outputId": "736af43b-53ab-432d-af01-6af2226b8b5d"
      },
      "execution_count": 63,
      "outputs": [
        {
          "output_type": "stream",
          "name": "stdout",
          "text": [
            "신호등 색깔 입력 : ㄴㅁㅇㄴㅁ\n",
            "신호등 색깔 입력 : sada\n",
            "신호등 색깔 입력 : \n",
            "신호등 색깔 입력 : green\n",
            "길 건너기\n"
          ]
        }
      ]
    },
    {
      "cell_type": "code",
      "source": [
        "#p19_ex24\n",
        "i = 0\n",
        "total = 0\n",
        "while True:\n",
        "  total = total+i\n",
        "  if total>50:\n",
        "      print('합이 50 보다 커지는 수는 %d이고 합은 %d이다.' %(i,total))\n",
        "      i+=1\n",
        "  break\n"
      ],
      "metadata": {
        "id": "1vCpN2ZJC97e"
      },
      "execution_count": 81,
      "outputs": []
    },
    {
      "cell_type": "code",
      "source": [
        "#p19_ex25\n",
        "dan = 2\n",
        "while dan <=9:\n",
        "  hang =1\n",
        "  print(dan, \"단\") \n",
        "  while hang<=9:\n",
        "    print(dan,\"*\",hang,\"=\",dan*hang)\n",
        "    hang +=1\n",
        "  dan+=1\n",
        "\n"
      ],
      "metadata": {
        "id": "hRkRI2JBC99e"
      },
      "execution_count": null,
      "outputs": []
    },
    {
      "cell_type": "code",
      "source": [
        "#p19_ex26\n",
        "for y in range(1,6):\n",
        "  for x in range(y):\n",
        "    print(\"*\",end=\"\")\n",
        "  print()"
      ],
      "metadata": {
        "colab": {
          "base_uri": "https://localhost:8080/"
        },
        "id": "Nat2sRe_HwKh",
        "outputId": "86552f23-6990-44f5-c2f2-eff7bfd56315"
      },
      "execution_count": 86,
      "outputs": [
        {
          "output_type": "stream",
          "name": "stdout",
          "text": [
            "*\n",
            "**\n",
            "***\n",
            "****\n",
            "*****\n"
          ]
        }
      ]
    },
    {
      "cell_type": "code",
      "source": [
        "#p19_ex27\n",
        "for i in range(7):\n",
        "  for j in range(7):\n",
        "    if(i == j) or (i+j == 6):\n",
        "      print('*',end = '')\n",
        "    else:\n",
        "      print(' ',end = '')\n",
        "  print()"
      ],
      "metadata": {
        "colab": {
          "base_uri": "https://localhost:8080/"
        },
        "id": "Nn29cEU0Iq7K",
        "outputId": "f5b6923e-6e24-424f-8461-8aa08cc4200f"
      },
      "execution_count": 87,
      "outputs": [
        {
          "output_type": "stream",
          "name": "stdout",
          "text": [
            "*     *\n",
            " *   * \n",
            "  * *  \n",
            "   *   \n",
            "  * *  \n",
            " *   * \n",
            "*     *\n"
          ]
        }
      ]
    },
    {
      "cell_type": "code",
      "source": [
        "#p19_ex28\n",
        "cnt = 0\n",
        "n = int(input('수 입력 : '))\n",
        "\n",
        "for i in range(2, n+1):\n",
        "  pn = 1\n",
        "  for j in range(2,i):\n",
        "    if i%j == 0:\n",
        "      pn = 0\n",
        "      \n",
        "  if pn ==1:\n",
        "    print('{:>5}'.format(i), sep ='',end = ' ')\n",
        "    cnt += 1\n",
        "    if cnt%5 == 0:\n",
        "      print()\n",
        "\n"
      ],
      "metadata": {
        "colab": {
          "base_uri": "https://localhost:8080/"
        },
        "id": "eDlikY3xJxFp",
        "outputId": "10ff668c-2ddb-48a8-9b58-78751c5f55f1"
      },
      "execution_count": 91,
      "outputs": [
        {
          "output_type": "stream",
          "name": "stdout",
          "text": [
            "수 입력 : 50\n",
            "    2     3     5     7    11 \n",
            "   13    17    19    23    29 \n",
            "   31    37    41    43    47 \n"
          ]
        }
      ]
    },
    {
      "cell_type": "code",
      "source": [],
      "metadata": {
        "id": "9BWrdoeEKcv5"
      },
      "execution_count": null,
      "outputs": []
    }
  ]
}